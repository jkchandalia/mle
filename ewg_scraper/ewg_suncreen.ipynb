{
 "cells": [
  {
   "cell_type": "code",
   "execution_count": 16,
   "metadata": {},
   "outputs": [],
   "source": [
    "%matplotlib inline\n",
    "from matplotlib import pyplot as plt\n",
    "import json\n",
    "import pandas as pd"
   ]
  },
  {
   "cell_type": "code",
   "execution_count": 2,
   "metadata": {},
   "outputs": [],
   "source": [
    "with open('ewg_suncreen2.json') as json_file:\n",
    "    data = json.load(json_file)"
   ]
  },
  {
   "cell_type": "code",
   "execution_count": 6,
   "metadata": {},
   "outputs": [],
   "source": [
    "df_ewg = pd.DataFrame(data)"
   ]
  },
  {
   "cell_type": "code",
   "execution_count": 9,
   "metadata": {},
   "outputs": [],
   "source": [
    "df_ewg.drop_duplicates(inplace=True)"
   ]
  },
  {
   "cell_type": "code",
   "execution_count": 12,
   "metadata": {},
   "outputs": [],
   "source": [
    "df_ewg = df_ewg.reset_index(drop=True)"
   ]
  },
  {
   "cell_type": "code",
   "execution_count": 23,
   "metadata": {},
   "outputs": [
    {
     "data": {
      "text/plain": [
       "<BarContainer object of 172 artists>"
      ]
     },
     "execution_count": 23,
     "metadata": {},
     "output_type": "execute_result"
    },
    {
     "data": {
      "image/png": "[encoded data removed]",
      "text/plain": [
       "<Figure size 432x288 with 1 Axes>"
      ]
     },
     "metadata": {
      "needs_background": "light"
     },
     "output_type": "display_data"
    }
   ],
   "source": [
    "plt.bar(height=df_ewg.company.value_counts().values,x=df_ewg.company.value_counts().index)"
   ]
  },
  {
   "cell_type": "code",
   "execution_count": 26,
   "metadata": {},
   "outputs": [
    {
     "data": {
      "text/plain": [
       "Neutrogena                  54\n",
       "Olay                        41\n",
       "Shiseido                    22\n",
       "Clinique                    21\n",
       "Juice Beauty                21\n",
       "Supergoop!                  21\n",
       "First Aid Beauty            20\n",
       "Boots                       19\n",
       "Murad                       18\n",
       "Bareminerals                18\n",
       "Kiehl's                     17\n",
       "Laura Mercier               16\n",
       "tarte                       16\n",
       "Origins                     15\n",
       "Equate                      14\n",
       "Andalou Naturals            13\n",
       "philosophy                  12\n",
       "Garnier                     12\n",
       "Exuviance                   12\n",
       "Suntegrity Skincare         12\n",
       "Hourglass                   11\n",
       "Paula's Choice              11\n",
       "MyChelle                    11\n",
       "L'Oreal                     11\n",
       "La Roche-Posay              11\n",
       "Aveeno                      11\n",
       "Marie Veronique             10\n",
       "Cetaphil                     9\n",
       "Up & Up                      9\n",
       "COOLA                        9\n",
       "Smashbox                     9\n",
       "Bobbi Brown                  8\n",
       "EltaMD                       8\n",
       "Dermalogica                  8\n",
       "SanRe                        8\n",
       "W3LL PEOPLE                  8\n",
       "MDSolarSciences              7\n",
       "Algenist                     7\n",
       "Jergens                      7\n",
       "Peter Thomas Roth            7\n",
       "it                           7\n",
       "Botanics                     6\n",
       "Devita Natural Skin Care     6\n",
       "Burt's Bees                  6\n",
       "CeraVe                       6\n",
       "ILia                         6\n",
       "e.l.f.                       6\n",
       "Physicians Formula           6\n",
       "Mario Badescu                6\n",
       "ATTITUDE                     6\n",
       "Alba Botanica                5\n",
       "Clarins                      5\n",
       "CVS                          5\n",
       "Badger                       5\n",
       "Nivea                        5\n",
       "Pacifica                     5\n",
       "Beautycounter                5\n",
       "SkinMedica                   4\n",
       "Marcelle                     4\n",
       "Dr. Dennis Gross             4\n",
       "Josie Maran                  4\n",
       "Perricone MD                 4\n",
       "La Mer                       4\n",
       "Dr. Jart+                    4\n",
       "Soleil Toujours              4\n",
       "No-Ad                        4\n",
       "Solimo                       4\n",
       "Keys                         4\n",
       "CoTZ                         4\n",
       "Revision Skincare            4\n",
       "Goddess Garden               4\n",
       "Raw Elements                 4\n",
       "AHAVA                        4\n",
       "Drunk Elephant               4\n",
       "Loving Naturals              4\n",
       "Earth Science                3\n",
       "MD Complete                  3\n",
       "L'Oreal Paris                3\n",
       "Solara Suncare               3\n",
       "True Botanicals              3\n",
       "Everyhue Beauty              3\n",
       "Eucerin                      3\n",
       "Lumene                       3\n",
       "AROMATICA                    3\n",
       "Neocutis                     3\n",
       "Guerlain                     3\n",
       "Dove                         3\n",
       "Every Man Jack               3\n",
       "YourGoodSkin                 2\n",
       "sunumbra                     2\n",
       "Topcare                      2\n",
       "thinksport                   2\n",
       "Lancome                      2\n",
       "Ocean Potion                 2\n",
       "Naturopathica                2\n",
       "eau thermale Avene           2\n",
       "Beauty 360                   2\n",
       "Earth Mama                   2\n",
       "Harry's                      2\n",
       "CyberDERM                    2\n",
       "Farmacy                      2\n",
       "Glossier                     2\n",
       "Missha                       2\n",
       "Emilia                       2\n",
       "Solar Protection Formula     2\n",
       "Sephora                      2\n",
       "Yes To Grapefruit            2\n",
       "Tatcha                       2\n",
       "Yes To Carrots               2\n",
       "Moroccanoil                  2\n",
       "Gold Bond                    2\n",
       "Lubriderm                    2\n",
       "Almay                        2\n",
       "SkinCeuticals                2\n",
       "Elizabeth Arden              2\n",
       "Acure                        2\n",
       "Purpose                      2\n",
       "DermOne Skincare             2\n",
       "Iman                         2\n",
       "Pond's                       2\n",
       "Jack Black                   2\n",
       "Kari Gran                    2\n",
       "Block Island Organics        2\n",
       "RoC                          2\n",
       "innisfree                    2\n",
       "Meijer                       2\n",
       "Benefit                      1\n",
       "PUR                          1\n",
       "Hada Labo                    1\n",
       "AKT Therapy                  1\n",
       "Pacifica Soap                1\n",
       "Lacura                       1\n",
       "Biossance                    1\n",
       "Studio 35                    1\n",
       "Specific Beauty              1\n",
       "Palmer's                     1\n",
       "Walgreens                    1\n",
       "Renée Rouleau                1\n",
       "Wet N Wild                   1\n",
       "Fresh                        1\n",
       "Vichy                        1\n",
       "Quality Choice               1\n",
       "Crunchi                      1\n",
       "100% Pure                    1\n",
       "AO Skincare                  1\n",
       "Simple                       1\n",
       "Estée Lauder                 1\n",
       "365 Everyday Value           1\n",
       "AmorePacific                 1\n",
       "Anthony                      1\n",
       "CosMedix                     1\n",
       "Beekman                      1\n",
       "ISDIN                        1\n",
       "Ola                          1\n",
       "Alaffia                      1\n",
       "SkinSanity                   1\n",
       "Black Radiance               1\n",
       "Poofy Supernaturals          1\n",
       "Kate Somerville              1\n",
       "Cover Girl                   1\n",
       "Hampton Sun                  1\n",
       "Alastin Skincare             1\n",
       "Differin                     1\n",
       "Unsun                        1\n",
       "Apothecare                   1\n",
       "Hawaiian Tropic              1\n",
       "Yes To Cucumbers             1\n",
       "Babo Botanicals              1\n",
       "Korres                       1\n",
       "White & Elm                  1\n",
       "Total Block                  1\n",
       "Caribbean Sol                1\n",
       "Name: company, dtype: int64"
      ]
     },
     "execution_count": 26,
     "metadata": {},
     "output_type": "execute_result"
    }
   ],
   "source": [
    "pd.options.display.max_rows = 999\n",
    "df_ewg.company.value_counts()"
   ]
  },
  {
   "cell_type": "code",
   "execution_count": null,
   "metadata": {},
   "outputs": [],
   "source": []
  }
 ],
 "metadata": {
  "kernelspec": {
   "display_name": "Python 3",
   "language": "python",
   "name": "python3"
  },
  "language_info": {
   "codemirror_mode": {
    "name": "ipython",
    "version": 3
   },
   "file_extension": ".py",
   "mimetype": "text/x-python",
   "name": "python",
   "nbconvert_exporter": "python",
   "pygments_lexer": "ipython3",
   "version": "3.7.4"
  }
 },
 "nbformat": 4,
 "nbformat_minor": 2
}
